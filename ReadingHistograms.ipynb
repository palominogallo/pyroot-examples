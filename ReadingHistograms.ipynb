{
 "cells": [
  {
   "cell_type": "code",
   "execution_count": 1,
   "metadata": {
    "collapsed": false
   },
   "outputs": [
    {
     "data": {
      "application/javascript": [
       "IPython.CodeCell.config_defaults.highlight_modes['magic_text/x-c++src'] = {'reg':[/^%%cpp/]};"
      ]
     },
     "metadata": {},
     "output_type": "display_data"
    },
    {
     "name": "stdout",
     "output_type": "stream",
     "text": [
      "Welcome to JupyROOT 6.07/06\n"
     ]
    }
   ],
   "source": [
    "import ROOT as rt"
   ]
  },
  {
   "cell_type": "code",
   "execution_count": 2,
   "metadata": {
    "collapsed": false
   },
   "outputs": [
    {
     "name": "stdout",
     "output_type": "stream",
     "text": [
      "gr1  h1  h2\n"
     ]
    }
   ],
   "source": [
    "%%bash\n",
    "rootls rootfiles/file1.root"
   ]
  },
  {
   "cell_type": "markdown",
   "metadata": {},
   "source": [
    "# Read histograms, graphs from root file into a python list\n",
    "\n",
    "* We want to open the file: `rootfiles/file1.root`\n",
    "* Then we want to store the objects into a list "
   ]
  },
  {
   "cell_type": "code",
   "execution_count": 3,
   "metadata": {
    "collapsed": false
   },
   "outputs": [],
   "source": [
    "def readObjectsIntoList( name ):\n",
    "    tmpfile = rt.TFile(name, \"READ\")\n",
    "    tlist = []\n",
    "    tlist.append( tmpfile.Get(\"h1\") )\n",
    "    tlist.append( tmpfile.Get(\"h2\") )\n",
    "    tlist.append( tmpfile.Get(\"gr1\") )\n",
    "    rt.SetOwnership(tmpfile, 0) # important to avoid errors\n",
    "    #tmpfile.Close()\n",
    "    return tlist"
   ]
  },
  {
   "cell_type": "code",
   "execution_count": 4,
   "metadata": {
    "collapsed": false
   },
   "outputs": [],
   "source": [
    "tlist = readObjectsIntoList(\"rootfiles/file1.root\")"
   ]
  },
  {
   "cell_type": "code",
   "execution_count": 5,
   "metadata": {
    "collapsed": false
   },
   "outputs": [
    {
     "name": "stdout",
     "output_type": "stream",
     "text": [
      "<class '__main__.TH1D'> 3.0\n",
      "<class '__main__.TH1D'> 1.22474487139\n",
      "<class '__main__.TGraph'> 3\n"
     ]
    }
   ],
   "source": [
    "print type(tlist[0]), tlist[0].GetMean()\n",
    "print type(tlist[1]), tlist[1].GetRMS()\n",
    "print type(tlist[2]), tlist[2].GetN()"
   ]
  },
  {
   "cell_type": "markdown",
   "metadata": {},
   "source": [
    "***\n",
    "# Read histograms, graphs from root file into a python dictionary\n",
    "\n",
    "* We want to open the file: `rootfiles/file1.root`\n",
    "* Then we want to store the objects into a dictionary"
   ]
  },
  {
   "cell_type": "code",
   "execution_count": 6,
   "metadata": {
    "collapsed": true
   },
   "outputs": [],
   "source": [
    "def readObjectsIntoDictionary( name ):\n",
    "    tmpfile = rt.TFile(name, \"READ\")\n",
    "    tdict = {}\n",
    "    tdict[\"histo1\"] = tmpfile.Get(\"h1\")\n",
    "    tdict[\"histo2\"] = tmpfile.Get(\"h2\")\n",
    "    tdict[\"graph1\"] = tmpfile.Get(\"gr1\")\n",
    "    rt.SetOwnership(tmpfile, 0) # important to avoid errors\n",
    "    return tdict"
   ]
  },
  {
   "cell_type": "code",
   "execution_count": 7,
   "metadata": {
    "collapsed": false
   },
   "outputs": [],
   "source": [
    "tdict = readObjectsIntoDictionary(\"rootfiles/file1.root\")"
   ]
  },
  {
   "cell_type": "code",
   "execution_count": 8,
   "metadata": {
    "collapsed": false
   },
   "outputs": [
    {
     "name": "stdout",
     "output_type": "stream",
     "text": [
      "<class '__main__.TH1D'> 3.0\n",
      "<class '__main__.TH1D'> 1.22474487139\n",
      "<class '__main__.TGraph'> 3\n"
     ]
    }
   ],
   "source": [
    "print type(tdict[\"histo1\"]), tdict[\"histo1\"].GetMean()\n",
    "print type(tdict[\"histo2\"]), tdict[\"histo2\"].GetRMS()\n",
    "print type(tdict[\"graph1\"]), tdict[\"graph1\"].GetN()"
   ]
  }
 ],
 "metadata": {
  "kernelspec": {
   "display_name": "Python 2",
   "language": "python",
   "name": "python2"
  },
  "language_info": {
   "codemirror_mode": {
    "name": "ipython",
    "version": 2
   },
   "file_extension": ".py",
   "mimetype": "text/x-python",
   "name": "python",
   "nbconvert_exporter": "python",
   "pygments_lexer": "ipython2",
   "version": "2.7.13"
  }
 },
 "nbformat": 4,
 "nbformat_minor": 2
}
